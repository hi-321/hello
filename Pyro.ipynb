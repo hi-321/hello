{
 "cells": [
  {
   "cell_type": "code",
   "execution_count": 2,
   "metadata": {},
   "outputs": [
    {
     "name": "stdout",
     "output_type": "stream",
     "text": [
      "('sunny', 74.6521987915039)\n",
      "('sunny', 106.60955047607422)\n",
      "('sunny', 72.30422973632812)\n"
     ]
    }
   ],
   "source": [
    "import pyro\n",
    "import pyro.distributions as dist\n",
    "def weather():\n",
    "    cloudy = pyro.sample('cloudy', dist.Bernoulli(0.3))\n",
    "    cloudy = 'cloudy' if cloudy.item() == 1.0 else 'sunny'\n",
    "    mean_temp = {'cloudy': 55.0, 'sunny': 75.0}[cloudy]\n",
    "    scale_temp = {'cloudy': 10.0, 'sunny': 15.0}[cloudy]\n",
    "    temp = pyro.sample('temp', dist.Normal(mean_temp, scale_temp))\n",
    "    return cloudy, temp.item()\n",
    "for _ in range(3):\n",
    "    print(weather())"
   ]
  },
  {
   "cell_type": "code",
   "execution_count": 2,
   "metadata": {},
   "outputs": [
    {
     "name": "stdout",
     "output_type": "stream",
     "text": [
      "Multivariate Gaussian distribution:\n",
      "\n",
      "{'temperature': 'cold 0.3630892336368561'}\n",
      "{'temperature': 'warm 0.6236958503723145'}\n",
      "{'temperature': 'cold 0.20764319598674774'}\n",
      "{'temperature': 'cold -0.33204829692840576'}\n",
      "{'temperature': 'cold -0.19667400419712067'}\n",
      "{'temperature': 'warm 0.6088362336158752'}\n",
      "{'temperature': 'cold -0.017739620059728622'}\n",
      "{'temperature': 'cold -0.9869286417961121'}\n",
      "{'temperature': 'cold 0.06803400069475174'}\n",
      "{'temperature': 'cold -0.3055853247642517'}\n"
     ]
    }
   ],
   "source": [
    "import pyro\n",
    "import torch\n",
    "import pyro.distributions as dist\n",
    "\n",
    "def temperature_multivariate_gaussian():\n",
    "    mean = torch.tensor([0.006, 0.99])\n",
    "    covariance_matrix = torch.tensor([[0.1, 0.0], [0.0, 0.1]])  # Replace with your desired covariance matrix.\n",
    "    temp = pyro.sample('temperature', dist.MultivariateNormal(mean, covariance_matrix))\n",
    "    if temp[0] < 0.5:\n",
    "        return {'temperature': f'cold {temp[0].item()}'}\n",
    "    else:\n",
    "        return {'temperature': f'warm {temp[0].item()}'}\n",
    "\n",
    "print(\"Multivariate Gaussian distribution:\\n\")\n",
    "for i in range(10):\n",
    "    print(temperature_multivariate_gaussian())\n"
   ]
  }
 ],
 "metadata": {
  "kernelspec": {
   "display_name": "Python 3",
   "language": "python",
   "name": "python3"
  },
  "language_info": {
   "codemirror_mode": {
    "name": "ipython",
    "version": 3
   },
   "file_extension": ".py",
   "mimetype": "text/x-python",
   "name": "python",
   "nbconvert_exporter": "python",
   "pygments_lexer": "ipython3",
   "version": "3.11.1"
  }
 },
 "nbformat": 4,
 "nbformat_minor": 2
}
